{
 "cells": [
  {
   "cell_type": "code",
   "execution_count": 14,
   "metadata": {},
   "outputs": [
    {
     "name": "stdout",
     "output_type": "stream",
     "text": [
      "       longitude  latitude  housingMedianAge  totalRooms  totalBedrooms  \\\n",
      "0        -114.31     34.19                15        5612           1283   \n",
      "1        -114.47     34.40                19        7650           1901   \n",
      "2        -114.56     33.69                17         720            174   \n",
      "3        -114.57     33.64                14        1501            337   \n",
      "4        -114.57     33.57                20        1454            326   \n",
      "...          ...       ...               ...         ...            ...   \n",
      "16995    -124.26     40.58                52        2217            394   \n",
      "16996    -124.27     40.69                36        2349            528   \n",
      "16997    -124.30     41.84                17        2677            531   \n",
      "16998    -124.30     41.80                19        2672            552   \n",
      "16999    -124.35     40.54                52        1820            300   \n",
      "\n",
      "       population  households  medianIncome  medianHouseValue  \n",
      "0            1015         472        1.4936             66900  \n",
      "1            1129         463        1.8200             80100  \n",
      "2             333         117        1.6509             85700  \n",
      "3             515         226        3.1917             73400  \n",
      "4             624         262        1.9250             65500  \n",
      "...           ...         ...           ...               ...  \n",
      "16995         907         369        2.3571            111400  \n",
      "16996        1194         465        2.5179             79000  \n",
      "16997        1244         456        3.0313            103600  \n",
      "16998        1298         478        1.9797             85800  \n",
      "16999         806         270        3.0147             94600  \n",
      "\n",
      "[17000 rows x 9 columns]\n"
     ]
    }
   ],
   "source": [
    "'''\n",
    "Задача 40: Работать с файлом california_housing_train.csv, который находится в папке sample_data.\n",
    "Определить среднюю стоимость дома, где кол-во людей от 0 до 500 (population)\n",
    "Задача 42: Узнать какая максимальная households в зоне минимального значения population\n",
    "'''\n",
    "import pandas as pd\n",
    "\n",
    "df= pd.read_csv('https://gist.githubusercontent.com/taejs/c4f9138e1a1bb376c989b5d175fe6e3f/raw/f609d38c718a07e453565081997d3434bc63d40e/california_housing_train.csv')\n",
    "df.head()\n",
    "print(df)"
   ]
  },
  {
   "cell_type": "code",
   "execution_count": null,
   "id": "d8747945",
   "metadata": {},
   "outputs": [],
   "source": [
    "'''\n",
    "Задача 40: Работать с файлом california_housing_train.csv, который находится в папке sample_data.\n",
    "Определить среднюю стоимость дома, где кол-во людей от 0 до 500 (population)\n",
    "'''"
   ]
  },
  {
   "cell_type": "code",
   "execution_count": 64,
   "id": "17e69461",
   "metadata": {},
   "outputs": [
    {
     "data": {
      "text/html": [
       "<div>\n",
       "<style scoped>\n",
       "    .dataframe tbody tr th:only-of-type {\n",
       "        vertical-align: middle;\n",
       "    }\n",
       "\n",
       "    .dataframe tbody tr th {\n",
       "        vertical-align: top;\n",
       "    }\n",
       "\n",
       "    .dataframe thead th {\n",
       "        text-align: right;\n",
       "    }\n",
       "</style>\n",
       "<table border=\"1\" class=\"dataframe\">\n",
       "  <thead>\n",
       "    <tr style=\"text-align: right;\">\n",
       "      <th></th>\n",
       "      <th>longitude</th>\n",
       "      <th>latitude</th>\n",
       "      <th>housingMedianAge</th>\n",
       "      <th>totalRooms</th>\n",
       "      <th>totalBedrooms</th>\n",
       "      <th>population</th>\n",
       "      <th>households</th>\n",
       "      <th>medianIncome</th>\n",
       "      <th>medianHouseValue</th>\n",
       "    </tr>\n",
       "  </thead>\n",
       "  <tbody>\n",
       "    <tr>\n",
       "      <th>2</th>\n",
       "      <td>-114.56</td>\n",
       "      <td>33.69</td>\n",
       "      <td>17</td>\n",
       "      <td>720</td>\n",
       "      <td>174</td>\n",
       "      <td>333</td>\n",
       "      <td>117</td>\n",
       "      <td>1.6509</td>\n",
       "      <td>85700</td>\n",
       "    </tr>\n",
       "    <tr>\n",
       "      <th>7</th>\n",
       "      <td>-114.59</td>\n",
       "      <td>34.83</td>\n",
       "      <td>41</td>\n",
       "      <td>812</td>\n",
       "      <td>168</td>\n",
       "      <td>375</td>\n",
       "      <td>158</td>\n",
       "      <td>1.7083</td>\n",
       "      <td>48500</td>\n",
       "    </tr>\n",
       "    <tr>\n",
       "      <th>17</th>\n",
       "      <td>-114.65</td>\n",
       "      <td>32.79</td>\n",
       "      <td>21</td>\n",
       "      <td>44</td>\n",
       "      <td>33</td>\n",
       "      <td>64</td>\n",
       "      <td>27</td>\n",
       "      <td>0.8571</td>\n",
       "      <td>25000</td>\n",
       "    </tr>\n",
       "    <tr>\n",
       "      <th>19</th>\n",
       "      <td>-114.67</td>\n",
       "      <td>33.92</td>\n",
       "      <td>17</td>\n",
       "      <td>97</td>\n",
       "      <td>24</td>\n",
       "      <td>29</td>\n",
       "      <td>15</td>\n",
       "      <td>1.2656</td>\n",
       "      <td>27500</td>\n",
       "    </tr>\n",
       "    <tr>\n",
       "      <th>21</th>\n",
       "      <td>-114.73</td>\n",
       "      <td>33.43</td>\n",
       "      <td>24</td>\n",
       "      <td>796</td>\n",
       "      <td>243</td>\n",
       "      <td>227</td>\n",
       "      <td>139</td>\n",
       "      <td>0.8964</td>\n",
       "      <td>59200</td>\n",
       "    </tr>\n",
       "    <tr>\n",
       "      <th>...</th>\n",
       "      <td>...</td>\n",
       "      <td>...</td>\n",
       "      <td>...</td>\n",
       "      <td>...</td>\n",
       "      <td>...</td>\n",
       "      <td>...</td>\n",
       "      <td>...</td>\n",
       "      <td>...</td>\n",
       "      <td>...</td>\n",
       "    </tr>\n",
       "    <tr>\n",
       "      <th>16944</th>\n",
       "      <td>-124.14</td>\n",
       "      <td>40.67</td>\n",
       "      <td>23</td>\n",
       "      <td>580</td>\n",
       "      <td>117</td>\n",
       "      <td>320</td>\n",
       "      <td>109</td>\n",
       "      <td>4.2054</td>\n",
       "      <td>130600</td>\n",
       "    </tr>\n",
       "    <tr>\n",
       "      <th>16951</th>\n",
       "      <td>-124.15</td>\n",
       "      <td>40.81</td>\n",
       "      <td>50</td>\n",
       "      <td>340</td>\n",
       "      <td>74</td>\n",
       "      <td>235</td>\n",
       "      <td>83</td>\n",
       "      <td>1.7500</td>\n",
       "      <td>67500</td>\n",
       "    </tr>\n",
       "    <tr>\n",
       "      <th>16969</th>\n",
       "      <td>-124.17</td>\n",
       "      <td>40.80</td>\n",
       "      <td>52</td>\n",
       "      <td>661</td>\n",
       "      <td>316</td>\n",
       "      <td>392</td>\n",
       "      <td>244</td>\n",
       "      <td>0.9570</td>\n",
       "      <td>60000</td>\n",
       "    </tr>\n",
       "    <tr>\n",
       "      <th>16982</th>\n",
       "      <td>-124.18</td>\n",
       "      <td>40.62</td>\n",
       "      <td>35</td>\n",
       "      <td>952</td>\n",
       "      <td>178</td>\n",
       "      <td>480</td>\n",
       "      <td>179</td>\n",
       "      <td>3.0536</td>\n",
       "      <td>107000</td>\n",
       "    </tr>\n",
       "    <tr>\n",
       "      <th>16994</th>\n",
       "      <td>-124.25</td>\n",
       "      <td>40.28</td>\n",
       "      <td>32</td>\n",
       "      <td>1430</td>\n",
       "      <td>419</td>\n",
       "      <td>434</td>\n",
       "      <td>187</td>\n",
       "      <td>1.9417</td>\n",
       "      <td>76100</td>\n",
       "    </tr>\n",
       "  </tbody>\n",
       "</table>\n",
       "<p>1605 rows × 9 columns</p>\n",
       "</div>"
      ],
      "text/plain": [
       "       longitude  latitude  housingMedianAge  totalRooms  totalBedrooms  \\\n",
       "2        -114.56     33.69                17         720            174   \n",
       "7        -114.59     34.83                41         812            168   \n",
       "17       -114.65     32.79                21          44             33   \n",
       "19       -114.67     33.92                17          97             24   \n",
       "21       -114.73     33.43                24         796            243   \n",
       "...          ...       ...               ...         ...            ...   \n",
       "16944    -124.14     40.67                23         580            117   \n",
       "16951    -124.15     40.81                50         340             74   \n",
       "16969    -124.17     40.80                52         661            316   \n",
       "16982    -124.18     40.62                35         952            178   \n",
       "16994    -124.25     40.28                32        1430            419   \n",
       "\n",
       "       population  households  medianIncome  medianHouseValue  \n",
       "2             333         117        1.6509             85700  \n",
       "7             375         158        1.7083             48500  \n",
       "17             64          27        0.8571             25000  \n",
       "19             29          15        1.2656             27500  \n",
       "21            227         139        0.8964             59200  \n",
       "...           ...         ...           ...               ...  \n",
       "16944         320         109        4.2054            130600  \n",
       "16951         235          83        1.7500             67500  \n",
       "16969         392         244        0.9570             60000  \n",
       "16982         480         179        3.0536            107000  \n",
       "16994         434         187        1.9417             76100  \n",
       "\n",
       "[1605 rows x 9 columns]"
      ]
     },
     "execution_count": 64,
     "metadata": {},
     "output_type": "execute_result"
    }
   ],
   "source": [
    "df[df['population'] <= 500 ]    # Вывод таблицы, где количество жильцов в домах не превышет 500 человек"
   ]
  },
  {
   "cell_type": "code",
   "execution_count": 65,
   "id": "799fbc2a",
   "metadata": {},
   "outputs": [
    {
     "name": "stdout",
     "output_type": "stream",
     "text": [
      "206799.95140186916\n"
     ]
    }
   ],
   "source": [
    "print(df[df['population'] <= 500 ]['medianHouseValue'].mean()) #Вывод средней стоимости домов с количеством жильцов\n",
    "# не более 500 человек"
   ]
  },
  {
   "cell_type": "code",
   "execution_count": null,
   "id": "c576ad3b",
   "metadata": {},
   "outputs": [],
   "source": [
    "''' \n",
    "Задача 42:Узнать какая максимальная households в зоне минимального значения population\n",
    "'''\n"
   ]
  },
  {
   "cell_type": "code",
   "execution_count": 66,
   "id": "16cb7a60",
   "metadata": {},
   "outputs": [
    {
     "name": "stdout",
     "output_type": "stream",
     "text": [
      "3\n"
     ]
    }
   ],
   "source": [
    "print(df['population'].min()) #Вычисление миним. значения population"
   ]
  },
  {
   "cell_type": "code",
   "execution_count": 68,
   "id": "56bcafdc",
   "metadata": {},
   "outputs": [
    {
     "data": {
      "text/html": [
       "<div>\n",
       "<style scoped>\n",
       "    .dataframe tbody tr th:only-of-type {\n",
       "        vertical-align: middle;\n",
       "    }\n",
       "\n",
       "    .dataframe tbody tr th {\n",
       "        vertical-align: top;\n",
       "    }\n",
       "\n",
       "    .dataframe thead th {\n",
       "        text-align: right;\n",
       "    }\n",
       "</style>\n",
       "<table border=\"1\" class=\"dataframe\">\n",
       "  <thead>\n",
       "    <tr style=\"text-align: right;\">\n",
       "      <th></th>\n",
       "      <th>longitude</th>\n",
       "      <th>latitude</th>\n",
       "      <th>housingMedianAge</th>\n",
       "      <th>totalRooms</th>\n",
       "      <th>totalBedrooms</th>\n",
       "      <th>population</th>\n",
       "      <th>households</th>\n",
       "      <th>medianIncome</th>\n",
       "      <th>medianHouseValue</th>\n",
       "    </tr>\n",
       "  </thead>\n",
       "  <tbody>\n",
       "    <tr>\n",
       "      <th>8232</th>\n",
       "      <td>-118.44</td>\n",
       "      <td>34.04</td>\n",
       "      <td>16</td>\n",
       "      <td>18</td>\n",
       "      <td>6</td>\n",
       "      <td>3</td>\n",
       "      <td>4</td>\n",
       "      <td>0.536</td>\n",
       "      <td>350000</td>\n",
       "    </tr>\n",
       "  </tbody>\n",
       "</table>\n",
       "</div>"
      ],
      "text/plain": [
       "      longitude  latitude  housingMedianAge  totalRooms  totalBedrooms  \\\n",
       "8232    -118.44     34.04                16          18              6   \n",
       "\n",
       "      population  households  medianIncome  medianHouseValue  \n",
       "8232           3           4         0.536            350000  "
      ]
     },
     "execution_count": 68,
     "metadata": {},
     "output_type": "execute_result"
    }
   ],
   "source": [
    "df[df['population'] == 3 ] # Выведение таблицы с домами где число жителей == min\n"
   ]
  },
  {
   "cell_type": "code",
   "execution_count": 69,
   "id": "15700924",
   "metadata": {},
   "outputs": [
    {
     "name": "stdout",
     "output_type": "stream",
     "text": [
      "4\n"
     ]
    }
   ],
   "source": [
    "print(df[df['population'] == 3 ]['households'].min()) # Вычисление min households при  min количестве жителей"
   ]
  }
 ],
 "metadata": {
  "kernelspec": {
   "display_name": "Python 3",
   "language": "python",
   "name": "python3"
  },
  "language_info": {
   "codemirror_mode": {
    "name": "ipython",
    "version": 3
   },
   "file_extension": ".py",
   "mimetype": "text/x-python",
   "name": "python",
   "nbconvert_exporter": "python",
   "pygments_lexer": "ipython3",
   "version": "3.11.1"
  },
  "vscode": {
   "interpreter": {
    "hash": "9da8354831a1a76e7385765622e29197f528ad38b7148e1cd7d6cac41aa942b5"
   }
  }
 },
 "nbformat": 4,
 "nbformat_minor": 5
}
